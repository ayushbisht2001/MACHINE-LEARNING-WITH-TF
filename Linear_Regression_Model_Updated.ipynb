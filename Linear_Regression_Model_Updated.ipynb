{
  "nbformat": 4,
  "nbformat_minor": 0,
  "metadata": {
    "colab": {
      "name": "Linear Regression Model.ipynb",
      "provenance": [],
      "collapsed_sections": [],
      "authorship_tag": "ABX9TyP4/XFt7LbRL2WM+nsehP0m",
      "include_colab_link": true
    },
    "kernelspec": {
      "name": "python3",
      "display_name": "Python 3"
    }
  },
  "cells": [
    {
      "cell_type": "markdown",
      "metadata": {
        "id": "view-in-github",
        "colab_type": "text"
      },
      "source": [
        "<a href=\"https://colab.research.google.com/github/ayushbisht2001/MACHINE-LEARNING-WITH-TF/blob/main/Linear_Regression_Model_Updated.ipynb\" target=\"_parent\"><img src=\"https://colab.research.google.com/assets/colab-badge.svg\" alt=\"Open In Colab\"/></a>"
      ]
    },
    {
      "cell_type": "code",
      "metadata": {
        "id": "6Ooe0EuB1P6g"
      },
      "source": [
        "import tensorflow as tf\n",
        "import numpy as np\n",
        "import matplotlib.pyplot as plt\n",
        "import pandas as pd"
      ],
      "execution_count": 193,
      "outputs": []
    },
    {
      "cell_type": "code",
      "metadata": {
        "colab": {
          "base_uri": "https://localhost:8080/"
        },
        "id": "W_pjcdul3Qaj",
        "outputId": "248123b8-4d9a-40ab-ae41-67100650c719"
      },
      "source": [
        "tf.compat.v1.disable_eager_execution()\n",
        "x_data = np.linspace(0.0,10.0,1000000)\n",
        "noise = np.random.randn(len(x_data))\n",
        "noise"
      ],
      "execution_count": 194,
      "outputs": [
        {
          "output_type": "execute_result",
          "data": {
            "text/plain": [
              "array([ 0.84685295, -0.48265851, -1.30771946, ..., -0.47679332,\n",
              "        2.62339029,  1.76588725])"
            ]
          },
          "metadata": {
            "tags": []
          },
          "execution_count": 194
        }
      ]
    },
    {
      "cell_type": "code",
      "metadata": {
        "id": "jNImiWL63xw2"
      },
      "source": [
        "y_true = (1*x_data) + 5 + noise"
      ],
      "execution_count": 195,
      "outputs": []
    },
    {
      "cell_type": "code",
      "metadata": {
        "id": "A6eBirXJ4U9k"
      },
      "source": [
        "x_df = pd.DataFrame(data = x_data,columns = ['X-Data'])"
      ],
      "execution_count": 196,
      "outputs": []
    },
    {
      "cell_type": "code",
      "metadata": {
        "id": "v65ZYgPs4dg0"
      },
      "source": [
        "y_df = pd.DataFrame(data =y_true,columns=['Y'])"
      ],
      "execution_count": 197,
      "outputs": []
    },
    {
      "cell_type": "code",
      "metadata": {
        "colab": {
          "base_uri": "https://localhost:8080/",
          "height": 197
        },
        "id": "lLMqKm624xhT",
        "outputId": "d7052ba2-8ed8-4433-d78d-1cab5b5f8c1d"
      },
      "source": [
        "y_df.head()\n"
      ],
      "execution_count": 198,
      "outputs": [
        {
          "output_type": "execute_result",
          "data": {
            "text/html": [
              "<div>\n",
              "<style scoped>\n",
              "    .dataframe tbody tr th:only-of-type {\n",
              "        vertical-align: middle;\n",
              "    }\n",
              "\n",
              "    .dataframe tbody tr th {\n",
              "        vertical-align: top;\n",
              "    }\n",
              "\n",
              "    .dataframe thead th {\n",
              "        text-align: right;\n",
              "    }\n",
              "</style>\n",
              "<table border=\"1\" class=\"dataframe\">\n",
              "  <thead>\n",
              "    <tr style=\"text-align: right;\">\n",
              "      <th></th>\n",
              "      <th>Y</th>\n",
              "    </tr>\n",
              "  </thead>\n",
              "  <tbody>\n",
              "    <tr>\n",
              "      <th>0</th>\n",
              "      <td>5.846853</td>\n",
              "    </tr>\n",
              "    <tr>\n",
              "      <th>1</th>\n",
              "      <td>4.517351</td>\n",
              "    </tr>\n",
              "    <tr>\n",
              "      <th>2</th>\n",
              "      <td>3.692301</td>\n",
              "    </tr>\n",
              "    <tr>\n",
              "      <th>3</th>\n",
              "      <td>4.278523</td>\n",
              "    </tr>\n",
              "    <tr>\n",
              "      <th>4</th>\n",
              "      <td>2.758584</td>\n",
              "    </tr>\n",
              "  </tbody>\n",
              "</table>\n",
              "</div>"
            ],
            "text/plain": [
              "          Y\n",
              "0  5.846853\n",
              "1  4.517351\n",
              "2  3.692301\n",
              "3  4.278523\n",
              "4  2.758584"
            ]
          },
          "metadata": {
            "tags": []
          },
          "execution_count": 198
        }
      ]
    },
    {
      "cell_type": "code",
      "metadata": {
        "id": "eEqRVobs4zSr"
      },
      "source": [
        "my_data = pd.concat([x_df,y_df],axis=1)"
      ],
      "execution_count": 199,
      "outputs": []
    },
    {
      "cell_type": "code",
      "metadata": {
        "colab": {
          "base_uri": "https://localhost:8080/",
          "height": 197
        },
        "id": "XRnRNrU_5cDh",
        "outputId": "678c3be1-77b3-4231-971f-5a40d0079de3"
      },
      "source": [
        "my_data.head()"
      ],
      "execution_count": 200,
      "outputs": [
        {
          "output_type": "execute_result",
          "data": {
            "text/html": [
              "<div>\n",
              "<style scoped>\n",
              "    .dataframe tbody tr th:only-of-type {\n",
              "        vertical-align: middle;\n",
              "    }\n",
              "\n",
              "    .dataframe tbody tr th {\n",
              "        vertical-align: top;\n",
              "    }\n",
              "\n",
              "    .dataframe thead th {\n",
              "        text-align: right;\n",
              "    }\n",
              "</style>\n",
              "<table border=\"1\" class=\"dataframe\">\n",
              "  <thead>\n",
              "    <tr style=\"text-align: right;\">\n",
              "      <th></th>\n",
              "      <th>X-Data</th>\n",
              "      <th>Y</th>\n",
              "    </tr>\n",
              "  </thead>\n",
              "  <tbody>\n",
              "    <tr>\n",
              "      <th>0</th>\n",
              "      <td>0.00000</td>\n",
              "      <td>5.846853</td>\n",
              "    </tr>\n",
              "    <tr>\n",
              "      <th>1</th>\n",
              "      <td>0.00001</td>\n",
              "      <td>4.517351</td>\n",
              "    </tr>\n",
              "    <tr>\n",
              "      <th>2</th>\n",
              "      <td>0.00002</td>\n",
              "      <td>3.692301</td>\n",
              "    </tr>\n",
              "    <tr>\n",
              "      <th>3</th>\n",
              "      <td>0.00003</td>\n",
              "      <td>4.278523</td>\n",
              "    </tr>\n",
              "    <tr>\n",
              "      <th>4</th>\n",
              "      <td>0.00004</td>\n",
              "      <td>2.758584</td>\n",
              "    </tr>\n",
              "  </tbody>\n",
              "</table>\n",
              "</div>"
            ],
            "text/plain": [
              "    X-Data         Y\n",
              "0  0.00000  5.846853\n",
              "1  0.00001  4.517351\n",
              "2  0.00002  3.692301\n",
              "3  0.00003  4.278523\n",
              "4  0.00004  2.758584"
            ]
          },
          "metadata": {
            "tags": []
          },
          "execution_count": 200
        }
      ]
    },
    {
      "cell_type": "code",
      "metadata": {
        "colab": {
          "base_uri": "https://localhost:8080/",
          "height": 296
        },
        "id": "FwKb51Q25fGR",
        "outputId": "cb406908-4019-469e-d8e8-22d2852f4524"
      },
      "source": [
        "my_data.sample(n=250).plot(kind='scatter',x=\"X-Data\",y=\"Y\")"
      ],
      "execution_count": 201,
      "outputs": [
        {
          "output_type": "execute_result",
          "data": {
            "text/plain": [
              "<matplotlib.axes._subplots.AxesSubplot at 0x7fd2a6b60940>"
            ]
          },
          "metadata": {
            "tags": []
          },
          "execution_count": 201
        },
        {
          "output_type": "display_data",
          "data": {
            "image/png": "[encoded data removed]",
            "text/plain": [
              "<Figure size 432x288 with 1 Axes>"
            ]
          },
          "metadata": {
            "tags": [],
            "needs_background": "light"
          }
        }
      ]
    },
    {
      "cell_type": "code",
      "metadata": {
        "id": "HEYvf2oW6Kt3"
      },
      "source": [
        "batch_size = 8"
      ],
      "execution_count": 202,
      "outputs": []
    },
    {
      "cell_type": "markdown",
      "metadata": {
        "id": "EjyzgUeSzg9K"
      },
      "source": [
        "* In short, you use tf.Variable for trainable variables such as weights (W) *and biases (B) for your model.\r\n",
        "\r\n",
        "* tf.placeholder is used to feed actual training examples."
      ]
    },
    {
      "cell_type": "code",
      "metadata": {
        "id": "rrrPG6NacFsD"
      },
      "source": [
        "m = tf.Variable(0.5)\n",
        "b = tf.Variable(1.0)"
      ],
      "execution_count": 203,
      "outputs": []
    },
    {
      "cell_type": "code",
      "metadata": {
        "id": "PhMEp1mBcJkZ",
        "colab": {
          "base_uri": "https://localhost:8080/"
        },
        "outputId": "7b8b11d2-f174-4622-96a7-b8a9f354957e"
      },
      "source": [
        "xph = tf.compat.v1.placeholder(tf.float32,[batch_size])\n",
        "yph = tf.compat.v1.placeholder(tf.float32 , [batch_size])\n",
        "\n",
        "xph"
      ],
      "execution_count": 204,
      "outputs": [
        {
          "output_type": "execute_result",
          "data": {
            "text/plain": [
              "<tf.Tensor 'Placeholder_14:0' shape=(8,) dtype=float32>"
            ]
          },
          "metadata": {
            "tags": []
          },
          "execution_count": 204
        }
      ]
    },
    {
      "cell_type": "code",
      "metadata": {
        "id": "bdpP_q_gkyl4"
      },
      "source": [
        "y_model = m*xph + b"
      ],
      "execution_count": 205,
      "outputs": []
    },
    {
      "cell_type": "markdown",
      "metadata": {
        "id": "kuRsXo8-1dmN"
      },
      "source": [
        "* tk.reduce_sum() :  https://stackoverflow.com/questions/47157692/how-does-reduce-sum-work-in-tensorflow"
      ]
    },
    {
      "cell_type": "code",
      "metadata": {
        "id": "I8_D8RD9lm6U"
      },
      "source": [
        "error =  tf.reduce_sum(tf.square(yph-y_model))\r\n"
      ],
      "execution_count": 206,
      "outputs": []
    },
    {
      "cell_type": "code",
      "metadata": {
        "id": "fwqBFaCTlz_J"
      },
      "source": [
        "optimizer = tf.compat.v1.train.GradientDescentOptimizer(learning_rate = 0.001)\n",
        "train = optimizer.minimize(error)"
      ],
      "execution_count": 207,
      "outputs": []
    },
    {
      "cell_type": "code",
      "metadata": {
        "id": "AT_ST7bDmEDh"
      },
      "source": [
        "init = tf.compat.v1.global_variables_initializer()\n"
      ],
      "execution_count": 208,
      "outputs": []
    },
    {
      "cell_type": "markdown",
      "metadata": {
        "id": "AcaQ8Qq24rFb"
      },
      "source": [
        "* numpy.random.randint(low, high=None, size=None, dtype=int)\r\n",
        "  * Return random integers from low (inclusive) to high (exclusive).\r\n",
        "\r\n",
        "  * Return random integers from the “discrete uniform” distribution of the specified dtype in the “half-open” interval [low, high). If high is None (the default), then results are from [0, low).\r\n",
        "  "
      ]
    },
    {
      "cell_type": "code",
      "metadata": {
        "id": "wjZDJOasnAJm"
      },
      "source": [
        "with tf.compat.v1.Session() as sess:\n",
        "  sess.run(init)\n",
        "  epochs = 100\n",
        "  for i in range(epochs):\n",
        "    rand_ind = np.random.randint(low=len(x_data),size = batch_size)    \n",
        "    feed = {xph : x_data[rand_ind],yph : y_true[rand_ind]}\n",
        "    sess.run(train,feed_dict = feed)\n",
        "  model_m,model_b = sess.run([m,b])"
      ],
      "execution_count": 209,
      "outputs": []
    },
    {
      "cell_type": "code",
      "metadata": {
        "id": "i6yvWGtPokbB"
      },
      "source": [
        "y_hat = x_data*model_m + model_b"
      ],
      "execution_count": 210,
      "outputs": []
    },
    {
      "cell_type": "code",
      "metadata": {
        "colab": {
          "base_uri": "https://localhost:8080/"
        },
        "id": "LYxtzbMkp3uJ",
        "outputId": "44d93295-f81a-4bc5-a618-b7d06720f8ba"
      },
      "source": [
        "model_b"
      ],
      "execution_count": 211,
      "outputs": [
        {
          "output_type": "execute_result",
          "data": {
            "text/plain": [
              "2.382064"
            ]
          },
          "metadata": {
            "tags": []
          },
          "execution_count": 211
        }
      ]
    },
    {
      "cell_type": "code",
      "metadata": {
        "colab": {
          "base_uri": "https://localhost:8080/",
          "height": 296
        },
        "id": "f0yOQHvqpW6d",
        "outputId": "4d6039c4-d533-4079-aef0-794ffad81f93"
      },
      "source": [
        "my_data.sample(n=1000000).plot(kind='scatter',x='X-Data',y='Y')\n",
        "plt.plot(x_data,y_hat,'r')"
      ],
      "execution_count": 212,
      "outputs": [
        {
          "output_type": "execute_result",
          "data": {
            "text/plain": [
              "[<matplotlib.lines.Line2D at 0x7fd2a607d2b0>]"
            ]
          },
          "metadata": {
            "tags": []
          },
          "execution_count": 212
        },
        {
          "output_type": "display_data",
          "data": {
            "image/png": "[encoded data removed]",
            "text/plain": [
              "<Figure size 432x288 with 1 Axes>"
            ]
          },
          "metadata": {
            "tags": [],
            "needs_background": "light"
          }
        }
      ]
    },
    {
      "cell_type": "markdown",
      "metadata": {
        "id": "dWSYJX0oUpA2"
      },
      "source": [
        "Till now, We have manually created our machine learning model . \r\n",
        "\r\n",
        "Now the same thing can be done using APIs, which is implemented below...."
      ]
    },
    {
      "cell_type": "code",
      "metadata": {
        "colab": {
          "base_uri": "https://localhost:8080/"
        },
        "id": "1nyfbNU7Qz-Y",
        "outputId": "abd18ef6-2f56-482c-c618-b268ef828eac"
      },
      "source": [
        "feat_cols = [tf.feature_column.numeric_column('x',shape=[1])]\r\n",
        "print(feat_cols)\r\n",
        "\r\n",
        "\r\n",
        "\r\n",
        " "
      ],
      "execution_count": 213,
      "outputs": [
        {
          "output_type": "stream",
          "text": [
            "[NumericColumn(key='x', shape=(1,), default_value=None, dtype=tf.float32, normalizer_fn=None)]\n",
            "INFO:tensorflow:Using default config.\n",
            "WARNING:tensorflow:Using temporary folder as model directory: /tmp/tmpzifk4h6x\n",
            "INFO:tensorflow:Using config: {'_model_dir': '/tmp/tmpzifk4h6x', '_tf_random_seed': None, '_save_summary_steps': 100, '_save_checkpoints_steps': None, '_save_checkpoints_secs': 600, '_session_config': allow_soft_placement: true\n",
            "graph_options {\n",
            "  rewrite_options {\n",
            "    meta_optimizer_iterations: ONE\n",
            "  }\n",
            "}\n",
            ", '_keep_checkpoint_max': 5, '_keep_checkpoint_every_n_hours': 10000, '_log_step_count_steps': 100, '_train_distribute': None, '_device_fn': None, '_protocol': None, '_eval_distribute': None, '_experimental_distribute': None, '_experimental_max_worker_delay_secs': None, '_session_creation_timeout_secs': 7200, '_checkpoint_save_graph_def': True, '_service': None, '_cluster_spec': ClusterSpec({}), '_task_type': 'worker', '_task_id': 0, '_global_id_in_cluster': 0, '_master': '', '_evaluation_master': '', '_is_chief': True, '_num_ps_replicas': 0, '_num_worker_replicas': 1}\n"
          ],
          "name": "stdout"
        }
      ]
    },
    {
      "cell_type": "markdown",
      "metadata": {
        "id": "pd2q2kbE2-U0"
      },
      "source": [
        "## tf.estimator.LinearRegressor(feature_columns=feat_cols)\r\n",
        "\r\n",
        "* It basically do all the stuff by themselve, such that, taking some value for m and b and then apply function with Gradient optimizer. Basically we are providing the x and y value, and it perform linear regression for these given values to get the predicted value for y."
      ]
    },
    {
      "cell_type": "code",
      "metadata": {
        "id": "Akg7Hpsm2_Rb"
      },
      "source": [
        "# estimator is basically use to call the different form of model.\r\n",
        "estimator = tf.estimator.LinearRegressor(feature_columns = feat_cols)"
      ],
      "execution_count": null,
      "outputs": []
    },
    {
      "cell_type": "code",
      "metadata": {
        "id": "2HV-tynuRI7h",
        "colab": {
          "base_uri": "https://localhost:8080/"
        },
        "outputId": "48b60e6d-0ae7-4665-f545-eee2f649c148"
      },
      "source": [
        "from sklearn.model_selection import train_test_split\r\n",
        "\r\n",
        "# train_test_split is used to split the data into training and test set with 30% of the total data in test set and remainning are in training set\r\n",
        "# https://scikit-learn.org/stable/modules/generated/sklearn.model_selection.train_test_split.html\r\n",
        "\r\n",
        "\r\n",
        "x_train , x_eval,y_train,y_eval = train_test_split(x_data,y_true,test_size =0.3,random_state=0)\r\n",
        "\r\n",
        "\r\n",
        "input_func = tf.compat.v1.estimator.inputs.numpy_input_fn({'x':x_train},y_train,batch_size=4,num_epochs=None,shuffle = True)\r\n",
        "print(input_func)\r\n",
        "train_input_func = tf.compat.v1.estimator.inputs.numpy_input_fn({'x':x_train},y_train,batch_size=4,num_epochs=100,shuffle = False)\r\n",
        "\r\n",
        "eval_input_func = tf.compat.v1.estimator.inputs.numpy_input_fn({'x':x_train},y_train,batch_size=4,num_epochs=100,shuffle = False)"
      ],
      "execution_count": 214,
      "outputs": [
        {
          "output_type": "stream",
          "text": [
            "<function numpy_input_fn.<locals>.input_fn at 0x7fd2a5635620>\n"
          ],
          "name": "stdout"
        }
      ]
    },
    {
      "cell_type": "code",
      "metadata": {
        "colab": {
          "base_uri": "https://localhost:8080/"
        },
        "id": "eL-cAlPARNGZ",
        "outputId": "3d54177a-94b0-4812-d638-78af7698709a"
      },
      "source": [
        "estimator.train(input_fn = input_func,steps = 1000)\r\n",
        "\r\n",
        "\r\n"
      ],
      "execution_count": 215,
      "outputs": [
        {
          "output_type": "stream",
          "text": [
            "INFO:tensorflow:Calling model_fn.\n",
            "INFO:tensorflow:Done calling model_fn.\n",
            "INFO:tensorflow:Create CheckpointSaverHook.\n"
          ],
          "name": "stdout"
        },
        {
          "output_type": "stream",
          "text": [
            "/usr/local/lib/python3.6/dist-packages/tensorflow/python/keras/engine/base_layer_v1.py:1727: UserWarning: `layer.add_variable` is deprecated and will be removed in a future version. Please use `layer.add_weight` method instead.\n",
            "  warnings.warn('`layer.add_variable` is deprecated and '\n"
          ],
          "name": "stderr"
        },
        {
          "output_type": "stream",
          "text": [
            "INFO:tensorflow:Graph was finalized.\n",
            "INFO:tensorflow:Running local_init_op.\n",
            "INFO:tensorflow:Done running local_init_op.\n",
            "INFO:tensorflow:Calling checkpoint listeners before saving checkpoint 0...\n",
            "INFO:tensorflow:Saving checkpoints for 0 into /tmp/tmpzifk4h6x/model.ckpt.\n",
            "INFO:tensorflow:Calling checkpoint listeners after saving checkpoint 0...\n",
            "INFO:tensorflow:loss = 109.86784, step = 0\n",
            "INFO:tensorflow:global_step/sec: 752.006\n",
            "INFO:tensorflow:loss = 5.6724787, step = 100 (0.135 sec)\n",
            "INFO:tensorflow:global_step/sec: 762.914\n",
            "INFO:tensorflow:loss = 1.2566943, step = 201 (0.132 sec)\n",
            "INFO:tensorflow:global_step/sec: 783.541\n",
            "INFO:tensorflow:loss = 2.3904824, step = 300 (0.128 sec)\n",
            "INFO:tensorflow:global_step/sec: 808.849\n",
            "INFO:tensorflow:loss = 0.9993079, step = 400 (0.125 sec)\n",
            "INFO:tensorflow:global_step/sec: 796.845\n",
            "INFO:tensorflow:loss = 2.5215938, step = 500 (0.132 sec)\n",
            "INFO:tensorflow:global_step/sec: 682.618\n",
            "INFO:tensorflow:loss = 0.84576976, step = 600 (0.137 sec)\n",
            "INFO:tensorflow:global_step/sec: 842.358\n",
            "INFO:tensorflow:loss = 0.10960514, step = 700 (0.119 sec)\n",
            "INFO:tensorflow:global_step/sec: 754.814\n",
            "INFO:tensorflow:loss = 2.113506, step = 801 (0.133 sec)\n",
            "INFO:tensorflow:global_step/sec: 812.273\n",
            "INFO:tensorflow:loss = 0.25273216, step = 900 (0.123 sec)\n",
            "INFO:tensorflow:Calling checkpoint listeners before saving checkpoint 1000...\n",
            "INFO:tensorflow:Saving checkpoints for 1000 into /tmp/tmpzifk4h6x/model.ckpt.\n",
            "INFO:tensorflow:Calling checkpoint listeners after saving checkpoint 1000...\n",
            "INFO:tensorflow:Loss for final step: 0.20968705.\n"
          ],
          "name": "stdout"
        },
        {
          "output_type": "execute_result",
          "data": {
            "text/plain": [
              "<tensorflow_estimator.python.estimator.canned.linear.LinearRegressorV2 at 0x7fd2a607d0f0>"
            ]
          },
          "metadata": {
            "tags": []
          },
          "execution_count": 215
        }
      ]
    },
    {
      "cell_type": "markdown",
      "metadata": {
        "id": "Oqmr5WPE1Yk2"
      },
      "source": [
        "## Getting performance metrics , such that: average_loss, mean, etc etc...\r\n",
        "* They are just to check the performance of model.If evaluation is not done,our model still give the same output."
      ]
    },
    {
      "cell_type": "code",
      "metadata": {
        "id": "ABoiOjeC1Xcx"
      },
      "source": [
        "train_metrics = estimator.evaluate(input_fn=train_input_func,steps = 1000)\r\n",
        "\r\n",
        "eval_metrics = estimator.evaluate(input_fn=eval_input_func ,steps = 1000)                                                                                                                                          \r\n",
        "\r\n",
        "input_fu_predict = tf.compat.v1.estimator.inputs.numpy_input_fn({'x':np.linspace(0,10,10)},shuffle = False)"
      ],
      "execution_count": 216,
      "outputs": []
    },
    {
      "cell_type": "code",
      "metadata": {
        "colab": {
          "base_uri": "https://localhost:8080/"
        },
        "id": "82IoZIkNRR7i",
        "outputId": "823b62f4-026e-4827-faf2-f0843f7440c7"
      },
      "source": [
        "Predictions = [x['predictions'] for x in estimator.predict(input_fn=input_fu_predict)]"
      ],
      "execution_count": 217,
      "outputs": [
        {
          "output_type": "stream",
          "text": [
            "INFO:tensorflow:Calling model_fn.\n",
            "INFO:tensorflow:Done calling model_fn.\n",
            "INFO:tensorflow:Graph was finalized.\n",
            "INFO:tensorflow:Restoring parameters from /tmp/tmpzifk4h6x/model.ckpt-1000\n",
            "INFO:tensorflow:Running local_init_op.\n",
            "INFO:tensorflow:Done running local_init_op.\n"
          ],
          "name": "stdout"
        },
        {
          "output_type": "stream",
          "text": [
            "/usr/local/lib/python3.6/dist-packages/tensorflow/python/keras/engine/base_layer_v1.py:1727: UserWarning: `layer.add_variable` is deprecated and will be removed in a future version. Please use `layer.add_weight` method instead.\n",
            "  warnings.warn('`layer.add_variable` is deprecated and '\n"
          ],
          "name": "stderr"
        }
      ]
    },
    {
      "cell_type": "code",
      "metadata": {
        "colab": {
          "base_uri": "https://localhost:8080/"
        },
        "id": "tsl1TgBmYUDc",
        "outputId": "26e84227-6f1c-4790-97a2-9879b1e075cd"
      },
      "source": [
        "Predictions"
      ],
      "execution_count": 218,
      "outputs": [
        {
          "output_type": "execute_result",
          "data": {
            "text/plain": [
              "[array([4.0794535], dtype=float32),\n",
              " array([5.3695397], dtype=float32),\n",
              " array([6.659626], dtype=float32),\n",
              " array([7.9497128], dtype=float32),\n",
              " array([9.2397995], dtype=float32),\n",
              " array([10.529885], dtype=float32),\n",
              " array([11.819971], dtype=float32),\n",
              " array([13.110058], dtype=float32),\n",
              " array([14.400145], dtype=float32),\n",
              " array([15.69023], dtype=float32)]"
            ]
          },
          "metadata": {
            "tags": []
          },
          "execution_count": 218
        }
      ]
    },
    {
      "cell_type": "code",
      "metadata": {
        "colab": {
          "base_uri": "https://localhost:8080/",
          "height": 296
        },
        "id": "x1nZWiTvYgO6",
        "outputId": "bebafa1f-3721-497d-cd10-99d0ae3312b9"
      },
      "source": [
        "my_data.sample(n=200).plot(kind='scatter',x='X-Data',y='Y')\r\n",
        "plt.plot(np.linspace(0,10,10),Predictions,'r')"
      ],
      "execution_count": 219,
      "outputs": [
        {
          "output_type": "execute_result",
          "data": {
            "text/plain": [
              "[<matplotlib.lines.Line2D at 0x7fd2a4b469e8>]"
            ]
          },
          "metadata": {
            "tags": []
          },
          "execution_count": 219
        },
        {
          "output_type": "display_data",
          "data": {
            "image/png": "[encoded data removed]",
            "text/plain": [
              "<Figure size 432x288 with 1 Axes>"
            ]
          },
          "metadata": {
            "tags": [],
            "needs_background": "light"
          }
        }
      ]
    },
    {
      "cell_type": "code",
      "metadata": {
        "id": "zJo9S5jtZWH3"
      },
      "source": [
        ""
      ],
      "execution_count": 219,
      "outputs": []
    }
  ]
}