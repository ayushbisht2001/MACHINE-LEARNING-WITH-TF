{
  "nbformat": 4,
  "nbformat_minor": 0,
  "metadata": {
    "colab": {
      "name": "Linear Regression Model.ipynb",
      "provenance": [],
      "collapsed_sections": [],
      "authorship_tag": "ABX9TyOFnaaq2VruijkjAk4GNRT4",
      "include_colab_link": true
    },
    "kernelspec": {
      "name": "python3",
      "display_name": "Python 3"
    }
  },
  "cells": [
    {
      "cell_type": "markdown",
      "metadata": {
        "id": "view-in-github",
        "colab_type": "text"
      },
      "source": [
        "<a href=\"https://colab.research.google.com/github/ayushbisht2001/MACHINE-LEARNING-WITH-TF/blob/main/Linear_Regression_Model.ipynb\" target=\"_parent\"><img src=\"https://colab.research.google.com/assets/colab-badge.svg\" alt=\"Open In Colab\"/></a>"
      ]
    },
    {
      "cell_type": "code",
      "metadata": {
        "id": "6Ooe0EuB1P6g"
      },
      "source": [
        "import tensorflow as tf\n",
        "import numpy as np\n",
        "import matplotlib.pyplot as plt\n",
        "import pandas as pd"
      ],
      "execution_count": 61,
      "outputs": []
    },
    {
      "cell_type": "code",
      "metadata": {
        "colab": {
          "base_uri": "https://localhost:8080/"
        },
        "id": "W_pjcdul3Qaj",
        "outputId": "20fd487d-903b-4980-c95e-4dc6e6b900a2"
      },
      "source": [
        "tf.compat.v1.disable_eager_execution()\n",
        "x_data = np.linspace(0.0,10.0,1000000)\n",
        "noise = np.random.randn(len(x_data))\n",
        "noise"
      ],
      "execution_count": 62,
      "outputs": [
        {
          "output_type": "execute_result",
          "data": {
            "text/plain": [
              "array([ 0.56987534, -0.4230705 ,  0.58330486, ...,  1.37223667,\n",
              "        0.69985339,  2.70096063])"
            ]
          },
          "metadata": {
            "tags": []
          },
          "execution_count": 62
        }
      ]
    },
    {
      "cell_type": "code",
      "metadata": {
        "id": "jNImiWL63xw2"
      },
      "source": [
        "y_true = (1*x_data) + 5 + noise"
      ],
      "execution_count": 63,
      "outputs": []
    },
    {
      "cell_type": "code",
      "metadata": {
        "id": "A6eBirXJ4U9k"
      },
      "source": [
        "x_df = pd.DataFrame(data = x_data,columns = ['X-Data'])"
      ],
      "execution_count": 64,
      "outputs": []
    },
    {
      "cell_type": "code",
      "metadata": {
        "id": "v65ZYgPs4dg0"
      },
      "source": [
        "y_df = pd.DataFrame(data =y_true,columns=['Y'])"
      ],
      "execution_count": 65,
      "outputs": []
    },
    {
      "cell_type": "code",
      "metadata": {
        "colab": {
          "base_uri": "https://localhost:8080/",
          "height": 204
        },
        "id": "lLMqKm624xhT",
        "outputId": "1b46201e-1c74-41db-a89b-504773b84631"
      },
      "source": [
        "y_df.head()\n"
      ],
      "execution_count": 66,
      "outputs": [
        {
          "output_type": "execute_result",
          "data": {
            "text/html": [
              "<div>\n",
              "<style scoped>\n",
              "    .dataframe tbody tr th:only-of-type {\n",
              "        vertical-align: middle;\n",
              "    }\n",
              "\n",
              "    .dataframe tbody tr th {\n",
              "        vertical-align: top;\n",
              "    }\n",
              "\n",
              "    .dataframe thead th {\n",
              "        text-align: right;\n",
              "    }\n",
              "</style>\n",
              "<table border=\"1\" class=\"dataframe\">\n",
              "  <thead>\n",
              "    <tr style=\"text-align: right;\">\n",
              "      <th></th>\n",
              "      <th>Y</th>\n",
              "    </tr>\n",
              "  </thead>\n",
              "  <tbody>\n",
              "    <tr>\n",
              "      <th>0</th>\n",
              "      <td>5.569875</td>\n",
              "    </tr>\n",
              "    <tr>\n",
              "      <th>1</th>\n",
              "      <td>4.576939</td>\n",
              "    </tr>\n",
              "    <tr>\n",
              "      <th>2</th>\n",
              "      <td>5.583325</td>\n",
              "    </tr>\n",
              "    <tr>\n",
              "      <th>3</th>\n",
              "      <td>3.970178</td>\n",
              "    </tr>\n",
              "    <tr>\n",
              "      <th>4</th>\n",
              "      <td>4.269101</td>\n",
              "    </tr>\n",
              "  </tbody>\n",
              "</table>\n",
              "</div>"
            ],
            "text/plain": [
              "          Y\n",
              "0  5.569875\n",
              "1  4.576939\n",
              "2  5.583325\n",
              "3  3.970178\n",
              "4  4.269101"
            ]
          },
          "metadata": {
            "tags": []
          },
          "execution_count": 66
        }
      ]
    },
    {
      "cell_type": "code",
      "metadata": {
        "id": "eEqRVobs4zSr"
      },
      "source": [
        "my_data = pd.concat([x_df,y_df],axis=1)"
      ],
      "execution_count": 67,
      "outputs": []
    },
    {
      "cell_type": "code",
      "metadata": {
        "colab": {
          "base_uri": "https://localhost:8080/",
          "height": 204
        },
        "id": "XRnRNrU_5cDh",
        "outputId": "1b23e3fe-7148-47bd-bf57-689486f012eb"
      },
      "source": [
        "my_data.head()"
      ],
      "execution_count": 68,
      "outputs": [
        {
          "output_type": "execute_result",
          "data": {
            "text/html": [
              "<div>\n",
              "<style scoped>\n",
              "    .dataframe tbody tr th:only-of-type {\n",
              "        vertical-align: middle;\n",
              "    }\n",
              "\n",
              "    .dataframe tbody tr th {\n",
              "        vertical-align: top;\n",
              "    }\n",
              "\n",
              "    .dataframe thead th {\n",
              "        text-align: right;\n",
              "    }\n",
              "</style>\n",
              "<table border=\"1\" class=\"dataframe\">\n",
              "  <thead>\n",
              "    <tr style=\"text-align: right;\">\n",
              "      <th></th>\n",
              "      <th>X-Data</th>\n",
              "      <th>Y</th>\n",
              "    </tr>\n",
              "  </thead>\n",
              "  <tbody>\n",
              "    <tr>\n",
              "      <th>0</th>\n",
              "      <td>0.00000</td>\n",
              "      <td>5.569875</td>\n",
              "    </tr>\n",
              "    <tr>\n",
              "      <th>1</th>\n",
              "      <td>0.00001</td>\n",
              "      <td>4.576939</td>\n",
              "    </tr>\n",
              "    <tr>\n",
              "      <th>2</th>\n",
              "      <td>0.00002</td>\n",
              "      <td>5.583325</td>\n",
              "    </tr>\n",
              "    <tr>\n",
              "      <th>3</th>\n",
              "      <td>0.00003</td>\n",
              "      <td>3.970178</td>\n",
              "    </tr>\n",
              "    <tr>\n",
              "      <th>4</th>\n",
              "      <td>0.00004</td>\n",
              "      <td>4.269101</td>\n",
              "    </tr>\n",
              "  </tbody>\n",
              "</table>\n",
              "</div>"
            ],
            "text/plain": [
              "    X-Data         Y\n",
              "0  0.00000  5.569875\n",
              "1  0.00001  4.576939\n",
              "2  0.00002  5.583325\n",
              "3  0.00003  3.970178\n",
              "4  0.00004  4.269101"
            ]
          },
          "metadata": {
            "tags": []
          },
          "execution_count": 68
        }
      ]
    },
    {
      "cell_type": "code",
      "metadata": {
        "colab": {
          "base_uri": "https://localhost:8080/",
          "height": 296
        },
        "id": "FwKb51Q25fGR",
        "outputId": "01bc83f5-1883-4043-ce7a-ff03e8d70b0a"
      },
      "source": [
        "my_data.sample(n=250).plot(kind='scatter',x=\"X-Data\",y=\"Y\")"
      ],
      "execution_count": 69,
      "outputs": [
        {
          "output_type": "execute_result",
          "data": {
            "text/plain": [
              "<matplotlib.axes._subplots.AxesSubplot at 0x7f60c6db66a0>"
            ]
          },
          "metadata": {
            "tags": []
          },
          "execution_count": 69
        },
        {
          "output_type": "display_data",
          "data": {
            "image/png": "[encoded data removed]",
            "text/plain": [
              "<Figure size 432x288 with 1 Axes>"
            ]
          },
          "metadata": {
            "tags": [],
            "needs_background": "light"
          }
        }
      ]
    },
    {
      "cell_type": "code",
      "metadata": {
        "id": "HEYvf2oW6Kt3"
      },
      "source": [
        "batch_size = 8"
      ],
      "execution_count": 70,
      "outputs": []
    },
    {
      "cell_type": "code",
      "metadata": {
        "id": "rrrPG6NacFsD"
      },
      "source": [
        "m = tf.Variable(0.5)\n",
        "b = tf.Variable(1.0)"
      ],
      "execution_count": 71,
      "outputs": []
    },
    {
      "cell_type": "code",
      "metadata": {
        "id": "PhMEp1mBcJkZ"
      },
      "source": [
        "xph = tf.compat.v1.placeholder(tf.float32,[batch_size])\n",
        "yph = tf.compat.v1.placeholder(tf.float32 , [batch_size])\n"
      ],
      "execution_count": 72,
      "outputs": []
    },
    {
      "cell_type": "code",
      "metadata": {
        "id": "bdpP_q_gkyl4"
      },
      "source": [
        "y_model = m*xph + b"
      ],
      "execution_count": 73,
      "outputs": []
    },
    {
      "cell_type": "code",
      "metadata": {
        "id": "I8_D8RD9lm6U"
      },
      "source": [
        "error =  tf.reduce_sum(tf.square(yph-y_model))"
      ],
      "execution_count": 74,
      "outputs": []
    },
    {
      "cell_type": "code",
      "metadata": {
        "id": "fwqBFaCTlz_J"
      },
      "source": [
        "optimizer = tf.compat.v1.train.GradientDescentOptimizer(learning_rate = 0.001)\n",
        "train = optimizer.minimize(error)"
      ],
      "execution_count": 75,
      "outputs": []
    },
    {
      "cell_type": "code",
      "metadata": {
        "id": "AT_ST7bDmEDh"
      },
      "source": [
        "init = tf.compat.v1.global_variables_initializer()\n"
      ],
      "execution_count": 76,
      "outputs": []
    },
    {
      "cell_type": "code",
      "metadata": {
        "id": "wjZDJOasnAJm"
      },
      "source": [
        "with tf.compat.v1.Session() as sess:\n",
        "  sess.run(init)\n",
        "  batches = 100\n",
        "  for i in range(batches):\n",
        "    rand_ind = np.random.randint(len(x_data),size = batch_size)\n",
        "    feed = {xph : x_data[rand_ind],yph : y_true[rand_ind]}\n",
        "    sess.run(train,feed_dict = feed)\n",
        "  model_m,model_b = sess.run([m,b])"
      ],
      "execution_count": 77,
      "outputs": []
    },
    {
      "cell_type": "code",
      "metadata": {
        "id": "i6yvWGtPokbB"
      },
      "source": [
        "y_hat = x_data*model_m + model_b"
      ],
      "execution_count": 78,
      "outputs": []
    },
    {
      "cell_type": "code",
      "metadata": {
        "colab": {
          "base_uri": "https://localhost:8080/"
        },
        "id": "LYxtzbMkp3uJ",
        "outputId": "cfbc648a-d611-4316-a788-8e712484fd0f"
      },
      "source": [
        "model_b"
      ],
      "execution_count": 79,
      "outputs": [
        {
          "output_type": "execute_result",
          "data": {
            "text/plain": [
              "2.4265258"
            ]
          },
          "metadata": {
            "tags": []
          },
          "execution_count": 79
        }
      ]
    },
    {
      "cell_type": "code",
      "metadata": {
        "colab": {
          "base_uri": "https://localhost:8080/",
          "height": 300
        },
        "id": "f0yOQHvqpW6d",
        "outputId": "cf7050e4-75f7-4431-cd8c-c017d5f25d8d"
      },
      "source": [
        "my_data.sample(n=1000).plot(kind='scatter',x='X-Data',y='Y')\n",
        "plt.plot(x_data,y_hat,'r')"
      ],
      "execution_count": 80,
      "outputs": [
        {
          "output_type": "execute_result",
          "data": {
            "text/plain": [
              "[<matplotlib.lines.Line2D at 0x7f60c81689e8>]"
            ]
          },
          "metadata": {
            "tags": []
          },
          "execution_count": 80
        },
        {
          "output_type": "display_data",
          "data": {
            "image/png": "[encoded data removed]",
            "text/plain": [
              "<Figure size 432x288 with 1 Axes>"
            ]
          },
          "metadata": {
            "tags": [],
            "needs_background": "light"
          }
        }
      ]
    },
    {
      "cell_type": "markdown",
      "metadata": {
        "id": "dWSYJX0oUpA2"
      },
      "source": [
        "Till now, We have manually created our machine learning model . \r\n",
        "\r\n",
        "Now the same thing can be done using APIs, which is implemented below...."
      ]
    },
    {
      "cell_type": "code",
      "metadata": {
        "colab": {
          "base_uri": "https://localhost:8080/"
        },
        "id": "1nyfbNU7Qz-Y",
        "outputId": "60d34135-39d0-4517-8fc9-5a6618e17674"
      },
      "source": [
        "feat_cols = [tf.feature_column.numeric_column('x',shape=[1])]\r\n",
        "\r\n",
        "# estimator is basically use to call the different form of model.\r\n",
        "estimator = tf.estimator.LinearRegressor(feature_columns = feat_cols)\r\n",
        " "
      ],
      "execution_count": 81,
      "outputs": [
        {
          "output_type": "stream",
          "text": [
            "INFO:tensorflow:Using default config.\n",
            "WARNING:tensorflow:Using temporary folder as model directory: /tmp/tmpdpqm17xj\n",
            "INFO:tensorflow:Using config: {'_model_dir': '/tmp/tmpdpqm17xj', '_tf_random_seed': None, '_save_summary_steps': 100, '_save_checkpoints_steps': None, '_save_checkpoints_secs': 600, '_session_config': allow_soft_placement: true\n",
            "graph_options {\n",
            "  rewrite_options {\n",
            "    meta_optimizer_iterations: ONE\n",
            "  }\n",
            "}\n",
            ", '_keep_checkpoint_max': 5, '_keep_checkpoint_every_n_hours': 10000, '_log_step_count_steps': 100, '_train_distribute': None, '_device_fn': None, '_protocol': None, '_eval_distribute': None, '_experimental_distribute': None, '_experimental_max_worker_delay_secs': None, '_session_creation_timeout_secs': 7200, '_checkpoint_save_graph_def': True, '_service': None, '_cluster_spec': ClusterSpec({}), '_task_type': 'worker', '_task_id': 0, '_global_id_in_cluster': 0, '_master': '', '_evaluation_master': '', '_is_chief': True, '_num_ps_replicas': 0, '_num_worker_replicas': 1}\n"
          ],
          "name": "stdout"
        }
      ]
    },
    {
      "cell_type": "code",
      "metadata": {
        "id": "2HV-tynuRI7h"
      },
      "source": [
        "from sklearn.model_selection import train_test_split\r\n",
        "\r\n",
        "\r\n",
        "x_train , x_eval,y_train,y_eval = train_test_split(x_data,y_true,test_size =0.3,random_state=0)\r\n",
        "\r\n",
        "\r\n",
        "input_func = tf.compat.v1.estimator.inputs.numpy_input_fn({'x':x_train},y_train,batch_size=4,num_epochs=None,shuffle = True)\r\n",
        "\r\n",
        "train_input_func = tf.compat.v1.estimator.inputs.numpy_input_fn({'x':x_train},y_train,batch_size=4,num_epochs=100,shuffle = False)\r\n",
        "\r\n",
        "eval_input_func = tf.compat.v1.estimator.inputs.numpy_input_fn({'x':x_train},y_train,batch_size=4,num_epochs=100,shuffle = False)"
      ],
      "execution_count": 82,
      "outputs": []
    },
    {
      "cell_type": "code",
      "metadata": {
        "colab": {
          "base_uri": "https://localhost:8080/"
        },
        "id": "eL-cAlPARNGZ",
        "outputId": "e44aaf31-d3a9-419b-d377-fdeaa00969e2"
      },
      "source": [
        "estimator.train(input_fn = input_func,steps = 1000)\r\n",
        "\r\n",
        "train_metrics = estimator.evaluate(input_fn=train_input_func,steps = 1000)\r\n",
        "\r\n",
        "eval_metrics = estimator.evaluate(input_fn=eval_input_func ,steps = 1000)\r\n",
        "\r\n",
        "input_fu_predict = tf.compat.v1.estimator.inputs.numpy_input_fn({'x':np.linspace(0,10,10)},shuffle = False)"
      ],
      "execution_count": 83,
      "outputs": [
        {
          "output_type": "stream",
          "text": [
            "INFO:tensorflow:Calling model_fn.\n",
            "INFO:tensorflow:Done calling model_fn.\n",
            "INFO:tensorflow:Create CheckpointSaverHook.\n"
          ],
          "name": "stdout"
        },
        {
          "output_type": "stream",
          "text": [
            "/usr/local/lib/python3.6/dist-packages/tensorflow/python/keras/engine/base_layer_v1.py:1727: UserWarning: `layer.add_variable` is deprecated and will be removed in a future version. Please use `layer.add_weight` method instead.\n",
            "  warnings.warn('`layer.add_variable` is deprecated and '\n"
          ],
          "name": "stderr"
        },
        {
          "output_type": "stream",
          "text": [
            "INFO:tensorflow:Graph was finalized.\n",
            "INFO:tensorflow:Running local_init_op.\n",
            "INFO:tensorflow:Done running local_init_op.\n",
            "INFO:tensorflow:Calling checkpoint listeners before saving checkpoint 0...\n",
            "INFO:tensorflow:Saving checkpoints for 0 into /tmp/tmpdpqm17xj/model.ckpt.\n",
            "INFO:tensorflow:Calling checkpoint listeners after saving checkpoint 0...\n",
            "INFO:tensorflow:loss = 111.9568, step = 0\n",
            "INFO:tensorflow:global_step/sec: 619.472\n",
            "INFO:tensorflow:loss = 3.9765236, step = 100 (0.170 sec)\n",
            "INFO:tensorflow:global_step/sec: 702.533\n",
            "INFO:tensorflow:loss = 2.5425563, step = 200 (0.138 sec)\n",
            "INFO:tensorflow:global_step/sec: 705.294\n",
            "INFO:tensorflow:loss = 2.6054523, step = 300 (0.139 sec)\n",
            "INFO:tensorflow:global_step/sec: 562.762\n",
            "INFO:tensorflow:loss = 1.6177698, step = 400 (0.184 sec)\n",
            "INFO:tensorflow:global_step/sec: 752.705\n",
            "INFO:tensorflow:loss = 2.0523167, step = 500 (0.126 sec)\n",
            "INFO:tensorflow:global_step/sec: 704.409\n",
            "INFO:tensorflow:loss = 3.3722835, step = 600 (0.148 sec)\n",
            "INFO:tensorflow:global_step/sec: 674.65\n",
            "INFO:tensorflow:loss = 1.1412225, step = 700 (0.148 sec)\n",
            "INFO:tensorflow:global_step/sec: 714.37\n",
            "INFO:tensorflow:loss = 1.0362927, step = 800 (0.136 sec)\n",
            "INFO:tensorflow:global_step/sec: 683.504\n",
            "INFO:tensorflow:loss = 1.0090779, step = 900 (0.147 sec)\n",
            "INFO:tensorflow:Calling checkpoint listeners before saving checkpoint 1000...\n",
            "INFO:tensorflow:Saving checkpoints for 1000 into /tmp/tmpdpqm17xj/model.ckpt.\n",
            "INFO:tensorflow:Calling checkpoint listeners after saving checkpoint 1000...\n",
            "INFO:tensorflow:Loss for final step: 1.8974246.\n",
            "INFO:tensorflow:Calling model_fn.\n",
            "INFO:tensorflow:Done calling model_fn.\n",
            "INFO:tensorflow:Starting evaluation at 2021-01-21T00:45:16Z\n",
            "INFO:tensorflow:Graph was finalized.\n",
            "INFO:tensorflow:Restoring parameters from /tmp/tmpdpqm17xj/model.ckpt-1000\n",
            "INFO:tensorflow:Running local_init_op.\n",
            "INFO:tensorflow:Done running local_init_op.\n",
            "INFO:tensorflow:Evaluation [100/1000]\n",
            "INFO:tensorflow:Evaluation [200/1000]\n",
            "INFO:tensorflow:Evaluation [300/1000]\n",
            "INFO:tensorflow:Evaluation [400/1000]\n",
            "INFO:tensorflow:Evaluation [500/1000]\n",
            "INFO:tensorflow:Evaluation [600/1000]\n",
            "INFO:tensorflow:Evaluation [700/1000]\n",
            "INFO:tensorflow:Evaluation [800/1000]\n",
            "INFO:tensorflow:Evaluation [900/1000]\n",
            "INFO:tensorflow:Evaluation [1000/1000]\n",
            "INFO:tensorflow:Inference Time : 1.42012s\n",
            "INFO:tensorflow:Finished evaluation at 2021-01-21-00:45:17\n",
            "INFO:tensorflow:Saving dict for global step 1000: average_loss = 1.2474269, global_step = 1000, label/mean = 10.015395, loss = 1.2474269, prediction/mean = 9.756195\n",
            "INFO:tensorflow:Saving 'checkpoint_path' summary for global step 1000: /tmp/tmpdpqm17xj/model.ckpt-1000\n",
            "INFO:tensorflow:Calling model_fn.\n",
            "INFO:tensorflow:Done calling model_fn.\n",
            "INFO:tensorflow:Starting evaluation at 2021-01-21T00:45:17Z\n",
            "INFO:tensorflow:Graph was finalized.\n",
            "INFO:tensorflow:Restoring parameters from /tmp/tmpdpqm17xj/model.ckpt-1000\n",
            "INFO:tensorflow:Running local_init_op.\n",
            "INFO:tensorflow:Done running local_init_op.\n",
            "INFO:tensorflow:Evaluation [100/1000]\n",
            "INFO:tensorflow:Evaluation [200/1000]\n",
            "INFO:tensorflow:Evaluation [300/1000]\n",
            "INFO:tensorflow:Evaluation [400/1000]\n",
            "INFO:tensorflow:Evaluation [500/1000]\n",
            "INFO:tensorflow:Evaluation [600/1000]\n",
            "INFO:tensorflow:Evaluation [700/1000]\n",
            "INFO:tensorflow:Evaluation [800/1000]\n",
            "INFO:tensorflow:Evaluation [900/1000]\n",
            "INFO:tensorflow:Evaluation [1000/1000]\n",
            "INFO:tensorflow:Inference Time : 1.41229s\n",
            "INFO:tensorflow:Finished evaluation at 2021-01-21-00:45:19\n",
            "INFO:tensorflow:Saving dict for global step 1000: average_loss = 1.2474269, global_step = 1000, label/mean = 10.015395, loss = 1.2474269, prediction/mean = 9.756195\n",
            "INFO:tensorflow:Saving 'checkpoint_path' summary for global step 1000: /tmp/tmpdpqm17xj/model.ckpt-1000\n"
          ],
          "name": "stdout"
        }
      ]
    },
    {
      "cell_type": "code",
      "metadata": {
        "colab": {
          "base_uri": "https://localhost:8080/"
        },
        "id": "82IoZIkNRR7i",
        "outputId": "29a4e296-9a00-4bc2-bed2-f7852b1de19e"
      },
      "source": [
        "Predictions = [x['predictions'] for x in estimator.predict(input_fn=input_fu_predict)]"
      ],
      "execution_count": 84,
      "outputs": [
        {
          "output_type": "stream",
          "text": [
            "INFO:tensorflow:Calling model_fn.\n",
            "INFO:tensorflow:Done calling model_fn.\n",
            "INFO:tensorflow:Graph was finalized.\n",
            "INFO:tensorflow:Restoring parameters from /tmp/tmpdpqm17xj/model.ckpt-1000\n",
            "INFO:tensorflow:Running local_init_op.\n",
            "INFO:tensorflow:Done running local_init_op.\n"
          ],
          "name": "stdout"
        },
        {
          "output_type": "stream",
          "text": [
            "/usr/local/lib/python3.6/dist-packages/tensorflow/python/keras/engine/base_layer_v1.py:1727: UserWarning: `layer.add_variable` is deprecated and will be removed in a future version. Please use `layer.add_weight` method instead.\n",
            "  warnings.warn('`layer.add_variable` is deprecated and '\n"
          ],
          "name": "stderr"
        }
      ]
    },
    {
      "cell_type": "code",
      "metadata": {
        "colab": {
          "base_uri": "https://localhost:8080/"
        },
        "id": "tsl1TgBmYUDc",
        "outputId": "6bc2227f-bde8-4375-8ea4-5282284bd566"
      },
      "source": [
        "Predictions"
      ],
      "execution_count": 85,
      "outputs": [
        {
          "output_type": "execute_result",
          "data": {
            "text/plain": [
              "[array([3.9606943], dtype=float32),\n",
              " array([5.2380342], dtype=float32),\n",
              " array([6.5153737], dtype=float32),\n",
              " array([7.792713], dtype=float32),\n",
              " array([9.070053], dtype=float32),\n",
              " array([10.347392], dtype=float32),\n",
              " array([11.624731], dtype=float32),\n",
              " array([12.902071], dtype=float32),\n",
              " array([14.179412], dtype=float32),\n",
              " array([15.456751], dtype=float32)]"
            ]
          },
          "metadata": {
            "tags": []
          },
          "execution_count": 85
        }
      ]
    },
    {
      "cell_type": "code",
      "metadata": {
        "colab": {
          "base_uri": "https://localhost:8080/",
          "height": 296
        },
        "id": "x1nZWiTvYgO6",
        "outputId": "4983f272-87a6-4ab1-e3b2-3a601381c593"
      },
      "source": [
        "my_data.sample(n=200).plot(kind='scatter',x='X-Data',y='Y')\r\n",
        "plt.plot(np.linspace(0,10,10),Predictions,'r')"
      ],
      "execution_count": 88,
      "outputs": [
        {
          "output_type": "execute_result",
          "data": {
            "text/plain": [
              "[<matplotlib.lines.Line2D at 0x7f60c8245438>]"
            ]
          },
          "metadata": {
            "tags": []
          },
          "execution_count": 88
        },
        {
          "output_type": "display_data",
          "data": {
            "image/png": "[encoded data removed]",
            "text/plain": [
              "<Figure size 432x288 with 1 Axes>"
            ]
          },
          "metadata": {
            "tags": [],
            "needs_background": "light"
          }
        }
      ]
    },
    {
      "cell_type": "code",
      "metadata": {
        "id": "zJo9S5jtZWH3"
      },
      "source": [
        ""
      ],
      "execution_count": null,
      "outputs": []
    }
  ]
}