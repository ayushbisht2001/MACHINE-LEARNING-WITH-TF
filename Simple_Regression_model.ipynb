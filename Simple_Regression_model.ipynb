{
  "nbformat": 4,
  "nbformat_minor": 0,
  "metadata": {
    "colab": {
      "name": "Simple_Regression_model.ipynb",
      "provenance": [],
      "authorship_tag": "ABX9TyOQ9t5ejztcuIqXl+f2uXmR",
      "include_colab_link": true
    },
    "kernelspec": {
      "display_name": "Python 3",
      "name": "python3"
    }
  },
  "cells": [
    {
      "cell_type": "markdown",
      "metadata": {
        "id": "view-in-github",
        "colab_type": "text"
      },
      "source": [
        "<a href=\"https://colab.research.google.com/github/ayushbisht2001/MACHINE-LEARNING-WITH-TF/blob/main/Simple_Regression_model.ipynb\" target=\"_parent\"><img src=\"https://colab.research.google.com/assets/colab-badge.svg\" alt=\"Open In Colab\"/></a>"
      ]
    },
    {
      "cell_type": "code",
      "metadata": {
        "id": "afINYHUwj3Rq"
      },
      "source": [
        "import tensorflow as tf\n",
        "import numpy as np"
      ],
      "execution_count": null,
      "outputs": []
    },
    {
      "cell_type": "code",
      "metadata": {
        "id": "n3AYmR6kkFON"
      },
      "source": [
        "import tensorflow as tf\n",
        "import numpy as np\n",
        "import matplotlib.pyplot as plt\n"
      ],
      "execution_count": null,
      "outputs": []
    },
    {
      "cell_type": "code",
      "metadata": {
        "id": "liVCwPRZu16T"
      },
      "source": [
        "x_data = np.linspace(0,10,10) + np.random.uniform(-1.5,1.5,10)\n"
      ],
      "execution_count": null,
      "outputs": []
    },
    {
      "cell_type": "code",
      "metadata": {
        "id": "5ltJkIvvvE1_"
      },
      "source": [
        "y_label = np.linspace(0,10,10)  + np.random.uniform(-1.5,1.5,10)\n"
      ],
      "execution_count": null,
      "outputs": []
    },
    {
      "cell_type": "code",
      "metadata": {
        "colab": {
          "base_uri": "https://localhost:8080/",
          "height": 283
        },
        "id": "AV2MSIgnvdXO",
        "outputId": "6bb391e9-48ca-4151-aa6f-df6177f5d3db"
      },
      "source": [
        "plt.plot(x_data,y_label,'*')"
      ],
      "execution_count": null,
      "outputs": [
        {
          "output_type": "execute_result",
          "data": {
            "text/plain": [
              "[<matplotlib.lines.Line2D at 0x7f3de375bc18>]"
            ]
          },
          "metadata": {
            "tags": []
          },
          "execution_count": 173
        },
        {
          "output_type": "display_data",
          "data": {
            "image/png": "[encoded data removed]",
            "text/plain": [
              "<Figure size 432x288 with 1 Axes>"
            ]
          },
          "metadata": {
            "tags": [],
            "needs_background": "light"
          }
        }
      ]
    },
    {
      "cell_type": "markdown",
      "metadata": {
        "id": "2jggSkBcvqGZ"
      },
      "source": [
        "**y = mx +b**"
      ]
    },
    {
      "cell_type": "code",
      "metadata": {
        "colab": {
          "base_uri": "https://localhost:8080/"
        },
        "id": "cvVATVswvjUu",
        "outputId": "a4cd87ac-5982-4e90-f655-e99dbbc9ea50"
      },
      "source": [
        "m = tf.Variable(0.98)\n",
        "b = tf.Variable(0.85)\n",
        "print(zip(x_data,y_label))\n",
        "\n",
        "tf.compat.v1.disable_eager_execution()"
      ],
      "execution_count": null,
      "outputs": [
        {
          "output_type": "stream",
          "text": [
            "<zip object at 0x7f3e44362d88>\n"
          ],
          "name": "stdout"
        }
      ]
    },
    {
      "cell_type": "code",
      "metadata": {
        "id": "PIx3XA42wTZH"
      },
      "source": [
        "error = 0\n",
        "for x,y in zip(x_data,y_label):\n",
        "  y_hat = m*x + b\n",
        "  error += ((y-y_hat)**2)"
      ],
      "execution_count": null,
      "outputs": []
    },
    {
      "cell_type": "markdown",
      "metadata": {
        "id": "k9C1CcHJ3oy7"
      },
      "source": [
        "**tf.compat.v1.train.GradientDescentOptimizer()**\n",
        "\n",
        "The major line of interest here is train_op = tf.train.GradientDescentOptimizer(0.01).minimize(error) where the training step is defined. It aims to minimise the value of the errorVariable, which is defined earlier as the square of the differences (a common error function). The 0.01 is the step it takes to try learn a better value."
      ]
    },
    {
      "cell_type": "code",
      "metadata": {
        "id": "nE-q7RVuxSpb"
      },
      "source": [
        "# tf.compat.v1.disable_eager_execution()\n",
        "optimizer = tf.compat.v1.train.GradientDescentOptimizer(learning_rate= 0.001)\n",
        "train = optimizer.minimize(error)"
      ],
      "execution_count": null,
      "outputs": []
    },
    {
      "cell_type": "code",
      "metadata": {
        "id": "H-itasHQxqQn"
      },
      "source": [
        "init = tf.compat.v1.global_variables_initializer()\n"
      ],
      "execution_count": null,
      "outputs": []
    },
    {
      "cell_type": "code",
      "metadata": {
        "colab": {
          "base_uri": "https://localhost:8080/"
        },
        "id": "5uKb3xXXy7Ul",
        "outputId": "7f3e7d50-face-4466-9321-58702c51d684"
      },
      "source": [
        "with tf.compat.v1.Session() as sess:\n",
        "  sess.run(init)\n",
        "  epoch = 10\n",
        "  for i in range(epoch):\n",
        "    sess.run(train)\n",
        "    print(\" m =  \",sess.run(m) ,\" ---- \", \"b = \",sess.run(b))\n",
        "    print(\"error\" , sess.run(error))\n",
        "    if sess.run(m) == \"nan\" or sess.run(b) == \"nan\":\n",
        "      break\n",
        "    else:\n",
        "      final_slope , final_intercept = sess.run([m,b])\n",
        "    "
      ],
      "execution_count": null,
      "outputs": [
        {
          "output_type": "stream",
          "text": [
            " m =   0.80718094  ----  b =  0.8170656\n",
            "error 13.616447\n",
            " m =   0.7682151  ----  b =  0.8031761\n",
            "error 12.537312\n",
            " m =   0.7601171  ----  b =  0.79371\n",
            "error 12.415906\n",
            " m =   0.7591341  ----  b =  0.7852947\n",
            "error 12.346075\n",
            " m =   0.75978786  ----  b =  0.77715236\n",
            "error 12.279608\n",
            " m =   0.7608148  ----  b =  0.7691033\n",
            "error 12.213932\n",
            " m =   0.7619235  ----  b =  0.76110595\n",
            "error 12.148904\n",
            " m =   0.7630468  ----  b =  0.7531506\n",
            "error 12.084515\n",
            " m =   0.7641692  ----  b =  0.74523485\n",
            "error 12.020752\n",
            " m =   0.7652872  ----  b =  0.737358\n",
            "error 11.957611\n"
          ],
          "name": "stdout"
        }
      ]
    },
    {
      "cell_type": "code",
      "metadata": {
        "colab": {
          "base_uri": "https://localhost:8080/"
        },
        "id": "54Rq_2P1zmCy",
        "outputId": "d0a92562-cdf3-43f4-811f-f8f648452470"
      },
      "source": [
        "final_slope"
      ],
      "execution_count": null,
      "outputs": [
        {
          "output_type": "execute_result",
          "data": {
            "text/plain": [
              "0.9181891"
            ]
          },
          "metadata": {
            "tags": []
          },
          "execution_count": 159
        }
      ]
    },
    {
      "cell_type": "code",
      "metadata": {
        "colab": {
          "base_uri": "https://localhost:8080/",
          "height": 282
        },
        "id": "A6uqvdGMzn-i",
        "outputId": "5611d267-1fd6-4f90-f992-1847a48df164"
      },
      "source": [
        "x_test = np.linspace(0,20,10)\n",
        "y_pred_plot = final_slope * x_test + final_intercept\n",
        "plt.plot(x_test,y_pred_plot,'r')\n",
        "plt.plot(x_data,y_label,'*')\n"
      ],
      "execution_count": null,
      "outputs": [
        {
          "output_type": "execute_result",
          "data": {
            "text/plain": [
              "[<matplotlib.lines.Line2D at 0x7f3de3228b38>]"
            ]
          },
          "metadata": {
            "tags": []
          },
          "execution_count": 191
        },
        {
          "output_type": "display_data",
          "data": {
            "image/png": "[encoded data removed]",
            "text/plain": [
              "<Figure size 432x288 with 1 Axes>"
            ]
          },
          "metadata": {
            "tags": [],
            "needs_background": "light"
          }
        }
      ]
    },
    {
      "cell_type": "code",
      "metadata": {
        "id": "ljUOKhFY0lou"
      },
      "source": [
        ""
      ],
      "execution_count": null,
      "outputs": []
    }
  ]
}